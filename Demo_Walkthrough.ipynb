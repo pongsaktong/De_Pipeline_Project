{
  "cells": [
    {
      "cell_type": "code",
      "source": [
        "%%pyspark\r\n",
        "from notebookutils import mssparkutils \r\n",
        "from pyspark.sql import functions as F\r\n",
        "from pyspark.sql.functions import col, lit\r\n",
        "import pandas as pd\r\n",
        "import os\r\n",
        "import datetime\r\n",
        "import time\r\n",
        "import re\r\n",
        "import json\r\n",
        "import configparser"
      ],
      "outputs": [
        {
          "output_type": "display_data",
          "data": {
            "application/vnd.livy.statement-meta+json": {
              "spark_pool": "contosospark",
              "session_id": "617",
              "statement_id": 1,
              "state": "finished",
              "livy_statement_state": "available",
              "queued_time": "2022-11-08T07:30:25.665393Z",
              "session_start_time": "2022-11-08T07:30:25.7235414Z",
              "execution_start_time": "2022-11-08T07:31:29.2772717Z",
              "execution_finish_time": "2022-11-08T07:31:33.331747Z",
              "spark_jobs": null
            },
            "text/plain": "StatementMeta(contosospark, 617, 1, Finished, Available)"
          },
          "metadata": {}
        }
      ],
      "execution_count": 1,
      "metadata": {
        "microsoft": {
          "language": "python"
        }
      }
    },
    {
      "cell_type": "code",
      "source": [
        "mssparkutils.fs.ls(\"abfss://cont-de-sharepoint@btgdatascience01.dfs.core.windows.net/config/\")"
      ],
      "outputs": [
        {
          "output_type": "display_data",
          "data": {
            "application/vnd.livy.statement-meta+json": {
              "spark_pool": "contosospark",
              "session_id": "516",
              "statement_id": 11,
              "state": "finished",
              "livy_statement_state": "available",
              "queued_time": "2022-11-02T13:03:37.4729511Z",
              "session_start_time": null,
              "execution_start_time": "2022-11-02T13:03:37.6277732Z",
              "execution_finish_time": "2022-11-02T13:03:43.0471667Z",
              "spark_jobs": null
            },
            "text/plain": "StatementMeta(contosospark, 516, 11, Finished, Available)"
          },
          "metadata": {}
        },
        {
          "output_type": "execute_result",
          "execution_count": 37,
          "data": {
            "text/plain": "[FileInfo(path=abfss://cont-de-sharepoint@btgdatascience01.dfs.core.windows.net/config/Errors, name=Errors, size=0),\n FileInfo(path=abfss://cont-de-sharepoint@btgdatascience01.dfs.core.windows.net/config/dq_check_config.ini, name=dq_check_config.ini, size=53),\n FileInfo(path=abfss://cont-de-sharepoint@btgdatascience01.dfs.core.windows.net/config/master_config.json, name=master_config.json, size=6012),\n FileInfo(path=abfss://cont-de-sharepoint@btgdatascience01.dfs.core.windows.net/config/sample.ini, name=sample.ini, size=26),\n FileInfo(path=abfss://cont-de-sharepoint@btgdatascience01.dfs.core.windows.net/config/sample3.py, name=sample3.py, size=6)]"
          },
          "metadata": {}
        }
      ],
      "execution_count": 11,
      "metadata": {
        "jupyter": {
          "source_hidden": false,
          "outputs_hidden": false
        },
        "nteract": {
          "transient": {
            "deleting": false
          }
        }
      }
    },
    {
      "cell_type": "code",
      "source": [
        "upload files to sharepoint\r\n",
        "Detach Trigger"
      ],
      "outputs": [],
      "execution_count": null,
      "metadata": {
        "jupyter": {
          "source_hidden": false,
          "outputs_hidden": false
        },
        "nteract": {
          "transient": {
            "deleting": false
          }
        }
      }
    },
    {
      "cell_type": "code",
      "source": [
        "mssparkutils.fs.rm(\"abfss://cont-de-sharepoint@btgdatascience01.dfs.core.windows.net/HF01_A_SALES/\", True)"
      ],
      "outputs": [
        {
          "output_type": "display_data",
          "data": {
            "application/vnd.livy.statement-meta+json": {
              "spark_pool": "contosospark",
              "session_id": "457",
              "statement_id": 2,
              "state": "finished",
              "livy_statement_state": "available",
              "queued_time": "2022-10-27T12:24:00.9440476Z",
              "session_start_time": null,
              "execution_start_time": "2022-10-27T12:24:31.479707Z",
              "execution_finish_time": "2022-10-27T12:24:36.8769532Z",
              "spark_jobs": null
            },
            "text/plain": "StatementMeta(contosospark, 457, 2, Finished, Available)"
          },
          "metadata": {}
        },
        {
          "output_type": "execute_result",
          "execution_count": 10,
          "data": {
            "text/plain": "True"
          },
          "metadata": {}
        }
      ],
      "execution_count": 2,
      "metadata": {
        "jupyter": {
          "source_hidden": false,
          "outputs_hidden": false
        },
        "nteract": {
          "transient": {
            "deleting": false
          }
        }
      }
    },
    {
      "cell_type": "markdown",
      "source": [
        "mssparkutils.fs.rm(\"abfss://cont-de-sharepoint@btgdatascience01.dfs.core.windows.net/lab/Errors/\", True)\r\n",
        "mssparkutils.fs.rm(\"abfss://cont-de-sharepoint@btgdatascience01.dfs.core.windows.net/lab/landing/\", True)\r\n",
        "mssparkutils.fs.rm(\"abfss://cont-de-sharepoint@btgdatascience01.dfs.core.windows.net/lab/preprocessing/\", True)\r\n",
        "mssparkutils.fs.rm(\"abfss://cont-de-sharepoint@btgdatascience01.dfs.core.windows.net/lab/archive/\", True)\r\n",
        "mssparkutils.fs.rm(\"abfss://cont-de-sharepoint@btgdatascience01.dfs.core.windows.net/lab/source_files/\", True)"
      ],
      "metadata": {
        "nteract": {
          "transient": {
            "deleting": false
          }
        }
      }
    },
    {
      "cell_type": "code",
      "source": [
        "delete sql tables"
      ],
      "outputs": [],
      "execution_count": null,
      "metadata": {
        "jupyter": {
          "source_hidden": false,
          "outputs_hidden": false
        },
        "nteract": {
          "transient": {
            "deleting": false
          }
        }
      }
    }
  ],
  "metadata": {
    "kernelspec": {
      "name": "synapse_pyspark",
      "language": "Python",
      "display_name": "Synapse PySpark"
    },
    "language_info": {
      "name": "python"
    },
    "kernel_info": {
      "name": "synapse_pyspark"
    },
    "description": null,
    "save_output": true,
    "synapse_widget": {
      "version": "0.1",
      "state": {}
    }
  },
  "nbformat": 4,
  "nbformat_minor": 2
}